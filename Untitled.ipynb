{
 "cells": [
  {
   "cell_type": "markdown",
   "id": "c67726f3",
   "metadata": {},
   "source": [
    "Question 1: Counting Odd Numbers\n",
    "Write a program that continuously takes input from the user until they enter a negative number. \n",
    "The program should then print the count of all the odd numbers entered."
   ]
  },
  {
   "cell_type": "code",
   "execution_count": 21,
   "id": "5e909987",
   "metadata": {},
   "outputs": [
    {
     "name": "stdout",
     "output_type": "stream",
     "text": [
      "Enter a number: 78\n"
     ]
    }
   ],
   "source": [
    "num=int(input('Enter a number: '))"
   ]
  },
  {
   "cell_type": "code",
   "execution_count": 14,
   "id": "4ae4bc7d",
   "metadata": {},
   "outputs": [
    {
     "name": "stdout",
     "output_type": "stream",
     "text": [
      "enter a number: 1\n",
      "enter a number: 3\n",
      "enter a number: 5\n",
      "enter a number: 7\n",
      "enter a number: 9\n",
      "enter a number: 2\n",
      "enter a number: 4\n",
      "enter a number: -1\n",
      "\n",
      "you entered odd number 5 times\n"
     ]
    }
   ],
   "source": [
    "num=int(input(\"enter a number: \"))\n",
    "count=0\n",
    "while num>-1:\n",
    "    num=int(input(\"enter a number: \"))\n",
    "    if num%2==1:\n",
    "        count=count+1\n",
    "    if -1>=num:\n",
    "        print(\"\\nyou entered odd number\",count,\"times\")"
   ]
  },
  {
   "cell_type": "markdown",
   "id": "bd6a4c82",
   "metadata": {},
   "source": [
    "Question 2: Guessing Game\n",
    "Create a guessing game where the computer generates a random number between 1 and 100, and the player has to guess it. \n",
    "The game should provide feedback on whether the guess is too high or too low, and it should continue until the player guesses \n",
    "the correct number."
   ]
  },
  {
   "cell_type": "code",
   "execution_count": null,
   "id": "aa0035fb",
   "metadata": {},
   "outputs": [],
   "source": [
    "import random\n",
    "number = random.randint(1,100)\n",
    "        \n",
    "guess = int(input())\n",
    "\n",
    "while(guess!= number):\n",
    "    \n",
    "    if guess < number:\n",
    "        print('Your guess is too low.')        \n",
    "    elif guess > number:\n",
    "        print('Your guess is too high.')\n",
    "    else:\n",
    "        print('wrong guess! try again.')\n",
    "\n",
    "    print('you guessed the right number')"
   ]
  },
  {
   "cell_type": "markdown",
   "id": "5d9ec34b",
   "metadata": {},
   "source": [
    "Question 3: Password Validation\n",
    "Write a program that repeatedly asks the user for a password. \n",
    "The program should keep asking until the user enters a password that meets the following criteria:\n",
    "\n",
    "Contains at least 8 characters\n",
    "Contains at least one uppercase letter\n",
    "Contains at least one lowercase letter\n",
    "Contains at least one digit"
   ]
  },
  {
   "cell_type": "code",
   "execution_count": null,
   "id": "14b4eb91",
   "metadata": {},
   "outputs": [],
   "source": []
  },
  {
   "cell_type": "markdown",
   "id": "c189c685",
   "metadata": {},
   "source": [
    "Question 1: Grade Classifier\n",
    "Write a program that takes a student's numerical grade as input and prints their corresponding letter grade according to the following scale:\n",
    "\n",
    "90 or above: A\n",
    "80-89: B\n",
    "70-79: C\n",
    "60-69: D\n",
    "Below 60: F"
   ]
  },
  {
   "cell_type": "code",
   "execution_count": null,
   "id": "8bd70df0",
   "metadata": {},
   "outputs": [],
   "source": [
    "grade=int(input(\"enter the marks obtained: \"))"
   ]
  },
  {
   "cell_type": "code",
   "execution_count": null,
   "id": "d7c7ba45",
   "metadata": {},
   "outputs": [],
   "source": [
    "if(grade>=90) and (grade<=99):\n",
    "    print(\"grade A\")\n",
    "elif (grade>=80) and (grade<=89):\n",
    "    print(\"grade B\")\n",
    "elif (grade>=70) and (grade<=79):\n",
    "    print(\"grade C\")\n",
    "elif (grade>=60) and (gradde<=69):\n",
    "    print(\"grade D\")\n",
    "else:\n",
    "    print(\"fail\")"
   ]
  },
  {
   "cell_type": "markdown",
   "id": "546b05ab",
   "metadata": {},
   "source": [
    "Question 2: Even or Odd\n",
    "Write a program that takes an integer as input and determines whether it is even or odd.\n"
   ]
  },
  {
   "cell_type": "code",
   "execution_count": 21,
   "id": "2e17764f",
   "metadata": {},
   "outputs": [
    {
     "name": "stdout",
     "output_type": "stream",
     "text": [
      "enter any number: 5\n"
     ]
    }
   ],
   "source": [
    "num=int(input(\"enter any number: \"))"
   ]
  },
  {
   "cell_type": "code",
   "execution_count": 22,
   "id": "2594f71b",
   "metadata": {},
   "outputs": [
    {
     "name": "stdout",
     "output_type": "stream",
     "text": [
      "odd number\n"
     ]
    }
   ],
   "source": [
    "if (num % 2 ==0):\n",
    "    print('Even number')\n",
    "else:\n",
    "    print('odd number')"
   ]
  },
  {
   "cell_type": "markdown",
   "id": "b91610b6",
   "metadata": {},
   "source": [
    "Question 3: Leap Year Checker\n",
    "Write a program that checks if a given year is a leap year. A leap year is either divisible by 4 but not by 100, or divisible by 400."
   ]
  },
  {
   "cell_type": "code",
   "execution_count": null,
   "id": "6d5548ee",
   "metadata": {},
   "outputs": [],
   "source": [
    "leap=int(input(\"enter the year to check if its leap or not: \"))"
   ]
  },
  {
   "cell_type": "code",
   "execution_count": 27,
   "id": "cbb066d4",
   "metadata": {},
   "outputs": [
    {
     "name": "stdout",
     "output_type": "stream",
     "text": [
      "year is leap\n"
     ]
    }
   ],
   "source": [
    "if(leap%4==0) or (leap%400==0):\n",
    "    print(\"year is leap\")\n",
    "else:\n",
    "    print(\"year is not leap\")"
   ]
  },
  {
   "cell_type": "markdown",
   "id": "9b46037e",
   "metadata": {},
   "source": [
    "Question 4: Positive, Negative, or Zero\n",
    "Write a program that takes a number as input and prints whether it is positive, negative, or zero."
   ]
  },
  {
   "cell_type": "code",
   "execution_count": 36,
   "id": "31453879",
   "metadata": {},
   "outputs": [
    {
     "name": "stdout",
     "output_type": "stream",
     "text": [
      "enter any number: 0\n"
     ]
    }
   ],
   "source": [
    "num=int(input(\"enter any number: \"))"
   ]
  },
  {
   "cell_type": "code",
   "execution_count": 37,
   "id": "e93673cd",
   "metadata": {},
   "outputs": [
    {
     "name": "stdout",
     "output_type": "stream",
     "text": [
      "its zero\n"
     ]
    }
   ],
   "source": [
    "if (num>0):\n",
    "    print(\"its a positive number\")\n",
    "elif (num<0):\n",
    "    print(\"its a negative number\")\n",
    "else:\n",
    "    print(\"its zero\")"
   ]
  },
  {
   "cell_type": "markdown",
   "id": "a1f36908",
   "metadata": {},
   "source": [
    "Question 5: Triangle Type\n",
    "Write a program that takes the lengths of three sides of a triangle as input and determines whether it's an equilateral, isosceles, or scalene triangle."
   ]
  },
  {
   "cell_type": "code",
   "execution_count": 34,
   "id": "6cb0d6e4",
   "metadata": {},
   "outputs": [
    {
     "name": "stdout",
     "output_type": "stream",
     "text": [
      "enter first side of triangle: 2\n",
      "enter second side of triangle: 3\n",
      "enter third side of triangle: 4\n"
     ]
    }
   ],
   "source": [
    "a=int(input(\"enter first side of triangle: \"))\n",
    "b=int(input(\"enter second side of triangle: \"))\n",
    "c=int(input(\"enter third side of triangle: \"))"
   ]
  },
  {
   "cell_type": "code",
   "execution_count": 35,
   "id": "28077dac",
   "metadata": {},
   "outputs": [
    {
     "name": "stdout",
     "output_type": "stream",
     "text": [
      "triangle is scalene\n"
     ]
    }
   ],
   "source": [
    "if(a==b==c):\n",
    "    print(\"triangle is equilateral\")\n",
    "elif(a==b) and (a!=c) or (b==c) and(b!=a) or (a==c) and (a!=b):\n",
    "    print(\"triangle is isosceles\")\n",
    "else:\n",
    "    print(\"triangle is scalene\")"
   ]
  },
  {
   "cell_type": "markdown",
   "id": "c6da48c0",
   "metadata": {},
   "source": [
    "Question 1: Print Even Numbers\n",
    "Write a program that prints all even numbers between 1 and 20."
   ]
  },
  {
   "cell_type": "code",
   "execution_count": 42,
   "id": "f0acb843",
   "metadata": {},
   "outputs": [
    {
     "name": "stdout",
     "output_type": "stream",
     "text": [
      "2\n",
      "4\n",
      "6\n",
      "8\n",
      "10\n",
      "12\n",
      "14\n",
      "16\n",
      "18\n",
      "20\n"
     ]
    }
   ],
   "source": [
    "for i in range(2,21):\n",
    "    if i % 2 == 0:\n",
    "        print(i)"
   ]
  },
  {
   "cell_type": "markdown",
   "id": "e87ae061",
   "metadata": {},
   "source": [
    "Question 2: Calculate Factorial\n",
    "Write a program that calculates the factorial of a given positive integer."
   ]
  },
  {
   "cell_type": "code",
   "execution_count": 36,
   "id": "876413d8",
   "metadata": {},
   "outputs": [
    {
     "name": "stdout",
     "output_type": "stream",
     "text": [
      "enter a number: 4\n"
     ]
    }
   ],
   "source": [
    "num=int(input('enter a number: '))"
   ]
  },
  {
   "cell_type": "code",
   "execution_count": 37,
   "id": "3c29d0cf",
   "metadata": {},
   "outputs": [
    {
     "name": "stdout",
     "output_type": "stream",
     "text": [
      "Factorial of  4  is  24\n"
     ]
    }
   ],
   "source": [
    "fact=1\n",
    "for i in range(1, num + 1):\n",
    "    fact *= i\n",
    "print('Factorial of ',num,' is ',fact)"
   ]
  },
  {
   "cell_type": "markdown",
   "id": "11440a2c",
   "metadata": {},
   "source": [
    "Question 3: Print Multiplication Table\n",
    "Write a program that takes an integer as input and prints its multiplication table up to 10."
   ]
  },
  {
   "cell_type": "code",
   "execution_count": 3,
   "id": "7e99c773",
   "metadata": {},
   "outputs": [
    {
     "name": "stdout",
     "output_type": "stream",
     "text": [
      "enter any number to print its table: 6\n"
     ]
    }
   ],
   "source": [
    "tab=int(input(\"enter any number to print its table: \"))"
   ]
  },
  {
   "cell_type": "code",
   "execution_count": 10,
   "id": "d3490aab",
   "metadata": {},
   "outputs": [
    {
     "name": "stdout",
     "output_type": "stream",
     "text": [
      "6 * 1 = 6\n",
      "6 * 2 = 12\n",
      "6 * 3 = 18\n",
      "6 * 4 = 24\n",
      "6 * 5 = 30\n",
      "6 * 6 = 36\n",
      "6 * 7 = 42\n",
      "6 * 8 = 48\n",
      "6 * 9 = 54\n",
      "6 * 10 = 60\n"
     ]
    }
   ],
   "source": [
    "for i in range(1,11):\n",
    "    print(tab,'*',i,\"=\",tab*i)"
   ]
  },
  {
   "cell_type": "markdown",
   "id": "8a6c23e6",
   "metadata": {},
   "source": [
    "Question 4: Calculate Sum of Digits\n",
    "Write a program that calculates the sum of the digits of a given number."
   ]
  },
  {
   "cell_type": "code",
   "execution_count": 48,
   "id": "60b73538",
   "metadata": {},
   "outputs": [
    {
     "name": "stdout",
     "output_type": "stream",
     "text": [
      "enter a number: 555\n"
     ]
    }
   ],
   "source": [
    "num=int(input('enter a number: '))"
   ]
  },
  {
   "cell_type": "code",
   "execution_count": 49,
   "id": "d0a6f40a",
   "metadata": {},
   "outputs": [
    {
     "name": "stdout",
     "output_type": "stream",
     "text": [
      "total sum of digits is 15\n"
     ]
    }
   ],
   "source": [
    "sum = 0\n",
    "while (num > 0):  \n",
    "    sum = sum + (num % 10)\n",
    "    num = num//10\n",
    "print(\"total sum of digits is\",sum)"
   ]
  },
  {
   "cell_type": "markdown",
   "id": "a04e49a7",
   "metadata": {},
   "source": [
    "Question 6: Calculate Fibonacci Series\n",
    "Write a program that generates the Fibonacci series up to a given number of terms."
   ]
  },
  {
   "cell_type": "code",
   "execution_count": 20,
   "id": "89aba8bf",
   "metadata": {},
   "outputs": [
    {
     "name": "stdout",
     "output_type": "stream",
     "text": [
      "Enter the number you want to print: 6\n",
      "0 1 1 2 3 5 "
     ]
    }
   ],
   "source": [
    "num = int(input (\"Enter the number you want to print: \"))     \n",
    "\n",
    "a = 0    \n",
    "b = 1    \n",
    "for i in range(0,num):  \n",
    "    print(a, end = \" \")              \n",
    "    c = a+b                       \n",
    "    a = b               \n",
    "    b = c "
   ]
  },
  {
   "cell_type": "markdown",
   "id": "15d5c36b",
   "metadata": {},
   "source": [
    "Question 2: Hollow Square Pattern\n",
    "Write a program to print a hollow square pattern of asterisks (*) with a side length of 5.\n",
    "*****\n",
    "*   *\n",
    "*   *\n",
    "*   *\n",
    "*****"
   ]
  },
  {
   "cell_type": "code",
   "execution_count": null,
   "id": "3f7095b6",
   "metadata": {},
   "outputs": [],
   "source": [
    "for i in range(1,6):\n",
    "    for j in range(1,i+1):\n",
    "        print(j,end=' ') \n",
    "    print(' ')"
   ]
  },
  {
   "cell_type": "markdown",
   "id": "4da44042",
   "metadata": {},
   "source": [
    "Question 3: Right Triangle Number Pattern\n",
    "Write a program to print a right triangle number pattern.\n",
    "1\n",
    "12\n",
    "123\n",
    "1234\n",
    "12345"
   ]
  },
  {
   "cell_type": "code",
   "execution_count": 19,
   "id": "b051562f",
   "metadata": {},
   "outputs": [
    {
     "name": "stdout",
     "output_type": "stream",
     "text": [
      "1  \n",
      "1 2  \n",
      "1 2 3  \n",
      "1 2 3 4  \n",
      "1 2 3 4 5  \n"
     ]
    }
   ],
   "source": [
    "for i in range(1,6):\n",
    "    for j in range(1,i+1):\n",
    "        print(j,end=' ') \n",
    "    print(' ')"
   ]
  }
 ],
 "metadata": {
  "kernelspec": {
   "display_name": "Python 3 (ipykernel)",
   "language": "python",
   "name": "python3"
  },
  "language_info": {
   "codemirror_mode": {
    "name": "ipython",
    "version": 3
   },
   "file_extension": ".py",
   "mimetype": "text/x-python",
   "name": "python",
   "nbconvert_exporter": "python",
   "pygments_lexer": "ipython3",
   "version": "3.10.9"
  }
 },
 "nbformat": 4,
 "nbformat_minor": 5
}
